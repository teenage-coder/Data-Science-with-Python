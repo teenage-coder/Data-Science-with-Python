{
 "cells": [
  {
   "cell_type": "code",
   "execution_count": 76,
   "metadata": {},
   "outputs": [],
   "source": [
    "import numpy as np\n",
    "\n",
    "from sklearn.datasets import load_breast_cancer\n",
    "from sklearn.preprocessing import StandardScaler\n",
    "from sklearn.model_selection import train_test_split\n",
    "\n",
    "from keras.models import Sequential\n",
    "from keras.layers import Dense, Dropout"
   ]
  },
  {
   "cell_type": "code",
   "execution_count": 4,
   "metadata": {},
   "outputs": [],
   "source": [
    "data = load_breast_cancer()"
   ]
  },
  {
   "cell_type": "code",
   "execution_count": 6,
   "metadata": {},
   "outputs": [
    {
     "data": {
      "text/plain": [
       "['target', 'DESCR', 'target_names', 'feature_names', 'data', 'filename']"
      ]
     },
     "execution_count": 6,
     "metadata": {},
     "output_type": "execute_result"
    }
   ],
   "source": [
    "data.keys()"
   ]
  },
  {
   "cell_type": "code",
   "execution_count": 23,
   "metadata": {},
   "outputs": [],
   "source": [
    "feature = data['data']\n",
    "labels = data['target']"
   ]
  },
  {
   "cell_type": "code",
   "execution_count": 37,
   "metadata": {},
   "outputs": [
    {
     "data": {
      "text/plain": [
       "array(['mean radius', 'mean texture', 'mean perimeter', 'mean area',\n",
       "       'mean smoothness', 'mean compactness', 'mean concavity',\n",
       "       'mean concave points', 'mean symmetry', 'mean fractal dimension',\n",
       "       'radius error', 'texture error', 'perimeter error', 'area error',\n",
       "       'smoothness error', 'compactness error', 'concavity error',\n",
       "       'concave points error', 'symmetry error',\n",
       "       'fractal dimension error', 'worst radius', 'worst texture',\n",
       "       'worst perimeter', 'worst area', 'worst smoothness',\n",
       "       'worst compactness', 'worst concavity', 'worst concave points',\n",
       "       'worst symmetry', 'worst fractal dimension'], dtype='|S23')"
      ]
     },
     "execution_count": 37,
     "metadata": {},
     "output_type": "execute_result"
    }
   ],
   "source": [
    "data['feature_names']"
   ]
  },
  {
   "cell_type": "code",
   "execution_count": 40,
   "metadata": {},
   "outputs": [
    {
     "name": "stdout",
     "output_type": "stream",
     "text": [
      "('mean radius', 17.99)\n",
      "('mean texture', 10.38)\n",
      "('mean perimeter', 122.8)\n",
      "('mean area', 1001.0)\n",
      "('mean smoothness', 0.1184)\n",
      "('mean compactness', 0.2776)\n",
      "('mean concavity', 0.3001)\n",
      "('mean concave points', 0.1471)\n",
      "('mean symmetry', 0.2419)\n",
      "('mean fractal dimension', 0.07871)\n",
      "('radius error', 1.095)\n",
      "('texture error', 0.9053)\n",
      "('perimeter error', 8.589)\n",
      "('area error', 153.4)\n",
      "('smoothness error', 0.006399)\n",
      "('compactness error', 0.04904)\n",
      "('concavity error', 0.05373)\n",
      "('concave points error', 0.01587)\n",
      "('symmetry error', 0.03003)\n",
      "('fractal dimension error', 0.006193)\n",
      "('worst radius', 25.38)\n",
      "('worst texture', 17.33)\n",
      "('worst perimeter', 184.6)\n",
      "('worst area', 2019.0)\n",
      "('worst smoothness', 0.1622)\n",
      "('worst compactness', 0.6656)\n",
      "('worst concavity', 0.7119)\n",
      "('worst concave points', 0.2654)\n",
      "('worst symmetry', 0.4601)\n",
      "('worst fractal dimension', 0.1189)\n"
     ]
    }
   ],
   "source": [
    "for i in range(30):\n",
    "\n",
    "    print(data['feature_names'][i], feature[0][i])"
   ]
  },
  {
   "cell_type": "code",
   "execution_count": 47,
   "metadata": {},
   "outputs": [
    {
     "data": {
      "text/plain": [
       "array([[1.799e+01, 1.038e+01, 1.228e+02, ..., 2.654e-01, 4.601e-01,\n",
       "        1.189e-01],\n",
       "       [2.057e+01, 1.777e+01, 1.329e+02, ..., 1.860e-01, 2.750e-01,\n",
       "        8.902e-02],\n",
       "       [1.969e+01, 2.125e+01, 1.300e+02, ..., 2.430e-01, 3.613e-01,\n",
       "        8.758e-02],\n",
       "       ...,\n",
       "       [1.660e+01, 2.808e+01, 1.083e+02, ..., 1.418e-01, 2.218e-01,\n",
       "        7.820e-02],\n",
       "       [2.060e+01, 2.933e+01, 1.401e+02, ..., 2.650e-01, 4.087e-01,\n",
       "        1.240e-01],\n",
       "       [7.760e+00, 2.454e+01, 4.792e+01, ..., 0.000e+00, 2.871e-01,\n",
       "        7.039e-02]])"
      ]
     },
     "execution_count": 47,
     "metadata": {},
     "output_type": "execute_result"
    }
   ],
   "source": [
    "feature"
   ]
  },
  {
   "cell_type": "code",
   "execution_count": 45,
   "metadata": {
    "scrolled": true
   },
   "outputs": [
    {
     "name": "stdout",
     "output_type": "stream",
     "text": [
      "1956.0\n",
      "0.003532\n"
     ]
    }
   ],
   "source": [
    "print(max(feature[1]))\n",
    "print(min(feature[1]))"
   ]
  },
  {
   "cell_type": "code",
   "execution_count": 49,
   "metadata": {},
   "outputs": [],
   "source": [
    "scaling = StandardScaler()\n",
    "\n",
    "feature = scaling.fit_transform(feature)"
   ]
  },
  {
   "cell_type": "code",
   "execution_count": 52,
   "metadata": {},
   "outputs": [
    {
     "name": "stdout",
     "output_type": "stream",
     "text": [
      "1.9087082542365938\n",
      "-0.8762436030602548\n"
     ]
    }
   ],
   "source": [
    "print(max(feature[1]))\n",
    "print(min(feature[1]))"
   ]
  },
  {
   "cell_type": "code",
   "execution_count": 55,
   "metadata": {},
   "outputs": [
    {
     "data": {
      "text/plain": [
       "(569, 30)"
      ]
     },
     "execution_count": 55,
     "metadata": {},
     "output_type": "execute_result"
    }
   ],
   "source": [
    "feature.shape"
   ]
  },
  {
   "cell_type": "code",
   "execution_count": 56,
   "metadata": {},
   "outputs": [
    {
     "data": {
      "text/plain": [
       "(569,)"
      ]
     },
     "execution_count": 56,
     "metadata": {},
     "output_type": "execute_result"
    }
   ],
   "source": [
    "labels.shape"
   ]
  },
  {
   "cell_type": "code",
   "execution_count": 58,
   "metadata": {},
   "outputs": [],
   "source": [
    "X = feature\n",
    "y = labels"
   ]
  },
  {
   "cell_type": "code",
   "execution_count": 112,
   "metadata": {},
   "outputs": [],
   "source": [
    "X_train, X_t, y_train, y_t = train_test_split(X, y, test_size = 0.2 )\n",
    "X_test, X_val, y_test, y_val = train_test_split(X_t, y_t, test_size = 0.5 )"
   ]
  },
  {
   "cell_type": "code",
   "execution_count": 132,
   "metadata": {},
   "outputs": [],
   "source": [
    "model = Sequential()\n",
    "\n",
    "model.add(Dense(15 ,activation = 'relu', input_dim = 30))\n",
    "\n",
    "model.add(Dense(15, activation = 'relu'))\n",
    "\n",
    "model.add(Dense(1, activation = 'sigmoid'))\n",
    "\n",
    "model.compile(loss = 'binary_crossentropy', optimizer = 'adam', metrics = ['accuracy'])"
   ]
  },
  {
   "cell_type": "code",
   "execution_count": 133,
   "metadata": {},
   "outputs": [
    {
     "name": "stdout",
     "output_type": "stream",
     "text": [
      "Train on 455 samples, validate on 57 samples\n",
      "Epoch 1/10\n",
      "455/455 [==============================] - 1s 2ms/step - loss: 0.7937 - accuracy: 0.4637 - val_loss: 0.5552 - val_accuracy: 0.7368\n",
      "Epoch 2/10\n",
      "455/455 [==============================] - 0s 288us/step - loss: 0.5860 - accuracy: 0.7143 - val_loss: 0.4282 - val_accuracy: 0.8246\n",
      "Epoch 3/10\n",
      "455/455 [==============================] - 0s 257us/step - loss: 0.4505 - accuracy: 0.8308 - val_loss: 0.3429 - val_accuracy: 0.8772\n",
      "Epoch 4/10\n",
      "455/455 [==============================] - 0s 247us/step - loss: 0.3552 - accuracy: 0.8857 - val_loss: 0.2821 - val_accuracy: 0.9123\n",
      "Epoch 5/10\n",
      "455/455 [==============================] - 0s 257us/step - loss: 0.2872 - accuracy: 0.9099 - val_loss: 0.2392 - val_accuracy: 0.9474\n",
      "Epoch 6/10\n",
      "455/455 [==============================] - 0s 247us/step - loss: 0.2396 - accuracy: 0.9275 - val_loss: 0.2085 - val_accuracy: 0.9649\n",
      "Epoch 7/10\n",
      "455/455 [==============================] - 0s 261us/step - loss: 0.2059 - accuracy: 0.9297 - val_loss: 0.1878 - val_accuracy: 0.9474\n",
      "Epoch 8/10\n",
      "455/455 [==============================] - 0s 273us/step - loss: 0.1824 - accuracy: 0.9385 - val_loss: 0.1723 - val_accuracy: 0.9649\n",
      "Epoch 9/10\n",
      "455/455 [==============================] - 0s 378us/step - loss: 0.1640 - accuracy: 0.9407 - val_loss: 0.1592 - val_accuracy: 0.9649\n",
      "Epoch 10/10\n",
      "455/455 [==============================] - 0s 388us/step - loss: 0.1492 - accuracy: 0.9473 - val_loss: 0.1474 - val_accuracy: 0.9649\n"
     ]
    },
    {
     "data": {
      "text/plain": [
       "<keras.callbacks.callbacks.History at 0x7f95d2e19850>"
      ]
     },
     "execution_count": 133,
     "metadata": {},
     "output_type": "execute_result"
    }
   ],
   "source": [
    "model.fit(x = X_train, y = y_train, epochs = 10, validation_data = (X_val,y_val))"
   ]
  },
  {
   "cell_type": "code",
   "execution_count": 131,
   "metadata": {},
   "outputs": [
    {
     "name": "stdout",
     "output_type": "stream",
     "text": [
      "57/57 [==============================] - 0s 244us/step\n"
     ]
    },
    {
     "data": {
      "text/plain": [
       "[0.16903083392402582, 0.9473684430122375]"
      ]
     },
     "execution_count": 131,
     "metadata": {},
     "output_type": "execute_result"
    }
   ],
   "source": [
    "model.evaluate(X_test, y_test)"
   ]
  },
  {
   "cell_type": "code",
   "execution_count": 155,
   "metadata": {},
   "outputs": [],
   "source": [
    "test =  X_train[92]"
   ]
  },
  {
   "cell_type": "code",
   "execution_count": 156,
   "metadata": {},
   "outputs": [],
   "source": [
    "test = np.reshape(test, (1,30))"
   ]
  },
  {
   "cell_type": "code",
   "execution_count": 157,
   "metadata": {},
   "outputs": [
    {
     "name": "stdout",
     "output_type": "stream",
     "text": [
      "Malignant\n"
     ]
    }
   ],
   "source": [
    "if (model.predict(test)[0][0] > 0.5):\n",
    "    print('Benign')\n",
    "else:\n",
    "    print('Malignant')"
   ]
  },
  {
   "cell_type": "code",
   "execution_count": 150,
   "metadata": {},
   "outputs": [
    {
     "data": {
      "text/plain": [
       "array(['malignant', 'benign'], dtype='|S9')"
      ]
     },
     "execution_count": 150,
     "metadata": {},
     "output_type": "execute_result"
    }
   ],
   "source": [
    "data['target_names']"
   ]
  },
  {
   "cell_type": "code",
   "execution_count": 160,
   "metadata": {},
   "outputs": [
    {
     "data": {
      "text/plain": [
       "0"
      ]
     },
     "execution_count": 160,
     "metadata": {},
     "output_type": "execute_result"
    }
   ],
   "source": [
    "y_train[92]"
   ]
  },
  {
   "cell_type": "code",
   "execution_count": 159,
   "metadata": {},
   "outputs": [
    {
     "data": {
      "text/plain": [
       "0.0027460768"
      ]
     },
     "execution_count": 159,
     "metadata": {},
     "output_type": "execute_result"
    }
   ],
   "source": [
    "model.predict(test)[0][0]"
   ]
  },
  {
   "cell_type": "code",
   "execution_count": null,
   "metadata": {},
   "outputs": [],
   "source": []
  }
 ],
 "metadata": {
  "kernelspec": {
   "display_name": "Python 2",
   "language": "python",
   "name": "python2"
  },
  "language_info": {
   "codemirror_mode": {
    "name": "ipython",
    "version": 2
   },
   "file_extension": ".py",
   "mimetype": "text/x-python",
   "name": "python",
   "nbconvert_exporter": "python",
   "pygments_lexer": "ipython2",
   "version": "2.7.16"
  }
 },
 "nbformat": 4,
 "nbformat_minor": 2
}
