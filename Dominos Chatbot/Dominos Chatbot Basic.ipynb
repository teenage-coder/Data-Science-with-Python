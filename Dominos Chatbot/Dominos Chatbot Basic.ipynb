{
 "cells": [
  {
   "cell_type": "code",
   "execution_count": 12,
   "metadata": {},
   "outputs": [
    {
     "name": "stdout",
     "output_type": "stream",
     "text": [
      "Hello! Welcome to Dominos!\n",
      "What kind of pizza do you want?\n",
      "\n",
      "---------------------\n",
      "  1 for Veg Pizza\n",
      " 2 for Non-Veg Pizza\n",
      "---------------------\n",
      "Press your choice1\n",
      "\n",
      "\n",
      "\n",
      "---------------------\n",
      " 1. ExtraVagenza\n",
      " 2. Cloud-9\n",
      " 3. Deluxe Veggoe\n",
      " 4. Paneer\n",
      " 5. 5 Pepper\n",
      "---------------------\n",
      "Press your choice3\n",
      "\n",
      "\n",
      "\n",
      "---------------------\n",
      " 1. Regular\n",
      " 2. Medium\n",
      " 3. Large\n",
      "---------------------\n",
      "Press your choice2\n",
      "How many?3\n"
     ]
    }
   ],
   "source": [
    "print(\"Hello! Welcome to Dominos!\")\n",
    "\n",
    "print(\"What kind of pizza do you want?\")\n",
    "print(\"\")\n",
    "print(\"---------------------\")\n",
    "print(\"  1 for Veg Pizza\")\n",
    "print(\" 2 for Non-Veg Pizza\")\n",
    "print(\"---------------------\")\n",
    "\n",
    "\n",
    "veg_or_non = int(input(\"Press your choice\"))\n",
    "\n",
    "print(\"\\n\\n\")\n",
    "print(\"---------------------\")\n",
    "print(\" 1. ExtraVagenza\")\n",
    "print(\" 2. Cloud-9\")\n",
    "print(\" 3. Deluxe Veggoe\")\n",
    "print(\" 4. Paneer\")\n",
    "print(\" 5. 5 Pepper\")\n",
    "print(\"---------------------\")\n",
    "\n",
    "\n",
    "pizza_name = int(input(\"Press your choice\"))\n",
    "\n",
    "\n",
    "print(\"\\n\\n\")\n",
    "print(\"---------------------\")\n",
    "print(\" 1. Regular\")\n",
    "print(\" 2. Medium\")\n",
    "print(\" 3. Large\")\n",
    "print(\"---------------------\")\n",
    "\n",
    "pizza_size = int(input(\"Press your choice\"))\n",
    "\n",
    "quantity = int(input(\"How many?\"))"
   ]
  },
  {
   "cell_type": "code",
   "execution_count": 13,
   "metadata": {},
   "outputs": [
    {
     "name": "stdout",
     "output_type": "stream",
     "text": [
      "('Pizza Type:', 1)\n",
      "('Pizza Name:', 3)\n",
      "('Pizza Size:', 2)\n",
      "('Quantity:', 3)\n"
     ]
    }
   ],
   "source": [
    "print(\"Pizza Type:\", veg_or_non)\n",
    "print(\"Pizza Name:\", pizza_name)\n",
    "print(\"Pizza Size:\", pizza_size)\n",
    "print(\"Quantity:\", quantity)"
   ]
  },
  {
   "cell_type": "code",
   "execution_count": null,
   "metadata": {},
   "outputs": [],
   "source": []
  }
 ],
 "metadata": {
  "kernelspec": {
   "display_name": "Python 2",
   "language": "python",
   "name": "python2"
  },
  "language_info": {
   "codemirror_mode": {
    "name": "ipython",
    "version": 2
   },
   "file_extension": ".py",
   "mimetype": "text/x-python",
   "name": "python",
   "nbconvert_exporter": "python",
   "pygments_lexer": "ipython2",
   "version": "2.7.16"
  }
 },
 "nbformat": 4,
 "nbformat_minor": 2
}
