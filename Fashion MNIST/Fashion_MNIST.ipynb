{
 "cells": [
  {
   "cell_type": "markdown",
   "metadata": {
    "id": "mrt666SLX-1W"
   },
   "source": [
    "# Q1. Importing Dataset (Fashion MNIST: [Dataset Documentation](https://keras.io/api/datasets/fashion_mnist/))"
   ]
  },
  {
   "cell_type": "code",
   "execution_count": null,
   "metadata": {
    "id": "w_ttL_gmVI_W"
   },
   "outputs": [],
   "source": [
    "import numpy as np\n",
    "import tensorflow as tf\n",
    "\n",
    "(x_train, y_train), (x_test, y_test) = tf.keras.datasets.fashion_mnist.load_data()\n",
    "\n",
    "x_train = np.reshape(x_train, (60000,784))\n",
    "x_test  = np.reshape(x_test,  (10000,784))"
   ]
  },
  {
   "cell_type": "markdown",
   "metadata": {
    "id": "HikV_n5tYhV3"
   },
   "source": [
    "# Q2. Display Sample Image"
   ]
  },
  {
   "cell_type": "code",
   "execution_count": null,
   "metadata": {
    "id": "-3fY9iwsXNlO"
   },
   "outputs": [],
   "source": []
  },
  {
   "cell_type": "markdown",
   "metadata": {
    "id": "aHrYjMHnYmQt"
   },
   "source": [
    "# Q3. How many classes we are having in this dataset?\n",
    "### Read dataset documentation to know more from the first cell"
   ]
  },
  {
   "cell_type": "code",
   "execution_count": null,
   "metadata": {
    "id": "5Toa1JXJXTvg"
   },
   "outputs": [],
   "source": []
  },
  {
   "cell_type": "markdown",
   "metadata": {
    "id": "5Sgj3mEyZRhP"
   },
   "source": [
    "# Q4. Make a Dictionary for Classes(for example)\n",
    "#### 0: Tshirt/Top\n",
    "#### 1: Trouser\n",
    "## ...\n",
    "#### 9. Ankle boot"
   ]
  },
  {
   "cell_type": "code",
   "execution_count": null,
   "metadata": {
    "id": "8F5d8vuyXUio"
   },
   "outputs": [],
   "source": []
  },
  {
   "cell_type": "markdown",
   "metadata": {
    "id": "jETahBEJaBvz"
   },
   "source": [
    "# Q5. Data Preprocessing"
   ]
  },
  {
   "cell_type": "code",
   "execution_count": null,
   "metadata": {
    "id": "IyE7JqIRXV7I"
   },
   "outputs": [],
   "source": []
  },
  {
   "cell_type": "markdown",
   "metadata": {
    "id": "ofnc-kolaKiH"
   },
   "source": [
    "# Q6. Make Validation and Test Split for Test data (50/50)"
   ]
  },
  {
   "cell_type": "code",
   "execution_count": null,
   "metadata": {
    "id": "vdr9HGmJXWb3"
   },
   "outputs": [],
   "source": []
  },
  {
   "cell_type": "markdown",
   "metadata": {
    "id": "ysBizEYhaWSl"
   },
   "source": [
    "# Q7. Build and Train a Model"
   ]
  },
  {
   "cell_type": "code",
   "execution_count": null,
   "metadata": {
    "id": "coRepzODaJyf"
   },
   "outputs": [],
   "source": []
  },
  {
   "cell_type": "markdown",
   "metadata": {
    "id": "bYLMeHmbabIf"
   },
   "source": [
    "# Q8. Model Evaluation and Prediction"
   ]
  },
  {
   "cell_type": "code",
   "execution_count": null,
   "metadata": {
    "id": "B1P4chIGagJ0"
   },
   "outputs": [],
   "source": []
  }
 ],
 "metadata": {
  "colab": {
   "name": "Fashion MNIST.ipynb",
   "provenance": []
  },
  "kernelspec": {
   "display_name": "Python 2",
   "language": "python",
   "name": "python2"
  },
  "language_info": {
   "codemirror_mode": {
    "name": "ipython",
    "version": 2
   },
   "file_extension": ".py",
   "mimetype": "text/x-python",
   "name": "python",
   "nbconvert_exporter": "python",
   "pygments_lexer": "ipython2",
   "version": "2.7.16"
  }
 },
 "nbformat": 4,
 "nbformat_minor": 1
}
