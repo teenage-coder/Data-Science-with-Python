{
  "nbformat": 4,
  "nbformat_minor": 0,
  "metadata": {
    "kernelspec": {
      "display_name": "Python 3",
      "language": "python",
      "name": "python3"
    },
    "language_info": {
      "codemirror_mode": {
        "name": "ipython",
        "version": 3
      },
      "file_extension": ".py",
      "mimetype": "text/x-python",
      "name": "python",
      "nbconvert_exporter": "python",
      "pygments_lexer": "ipython3",
      "version": "3.6.2"
    },
    "colab": {
      "name": "House Price Prediction.ipynb",
      "provenance": [],
      "collapsed_sections": []
    }
  },
  "cells": [
    {
      "cell_type": "code",
      "metadata": {
        "id": "82PZVnDp0SJo"
      },
      "source": [
        "import numpy as np\n",
        "from keras.datasets import boston_housing\n",
        "from sklearn.preprocessing import StandardScaler\n",
        "\n",
        "\n",
        "(X_train, y_train), (X_test, y_test) = boston_housing.load_data()"
      ],
      "execution_count": null,
      "outputs": []
    },
    {
      "cell_type": "code",
      "metadata": {
        "colab": {
          "base_uri": "https://localhost:8080/"
        },
        "id": "AzhVy1z909Bx",
        "outputId": "7fcdb22b-9abe-45fd-f24e-9eaa3db5d0a3"
      },
      "source": [
        "print(\"Training Samples: \", X_train.shape[0])\n",
        "print(\"Test Samples: \", X_test.shape[0])"
      ],
      "execution_count": null,
      "outputs": [
        {
          "output_type": "stream",
          "text": [
            "Training Samples:  404\n",
            "Test Samples:  102\n"
          ],
          "name": "stdout"
        }
      ]
    },
    {
      "cell_type": "code",
      "metadata": {
        "colab": {
          "base_uri": "https://localhost:8080/"
        },
        "id": "e3CAHiXe0_iY",
        "outputId": "6bbb9133-b76e-47d1-a4fd-02edfc0717c2"
      },
      "source": [
        "X_test[0]"
      ],
      "execution_count": null,
      "outputs": [
        {
          "output_type": "execute_result",
          "data": {
            "text/plain": [
              "array([ 18.0846,   0.    ,  18.1   ,   0.    ,   0.679 ,   6.434 ,\n",
              "       100.    ,   1.8347,  24.    , 666.    ,  20.2   ,  27.25  ,\n",
              "        29.05  ])"
            ]
          },
          "metadata": {
            "tags": []
          },
          "execution_count": 35
        }
      ]
    },
    {
      "cell_type": "code",
      "metadata": {
        "id": "2v8uLo4V1IXn"
      },
      "source": [
        "X_test  = StandardScaler().fit_transform(X_test)\n",
        "X_train = StandardScaler().fit_transform(X_train)"
      ],
      "execution_count": null,
      "outputs": []
    },
    {
      "cell_type": "code",
      "metadata": {
        "id": "YbBxB8Ri2NpE"
      },
      "source": [
        "y_train = y_train / 50.\n",
        "y_test = y_test / 50."
      ],
      "execution_count": null,
      "outputs": []
    },
    {
      "cell_type": "markdown",
      "metadata": {
        "id": "nFlC822A4Cq2"
      },
      "source": [
        "# Model Building"
      ]
    },
    {
      "cell_type": "code",
      "metadata": {
        "id": "mxhptAfJ3b8g"
      },
      "source": [
        "from keras.layers import Dense, Dropout\n",
        "from keras.models import Sequential"
      ],
      "execution_count": null,
      "outputs": []
    },
    {
      "cell_type": "code",
      "metadata": {
        "colab": {
          "base_uri": "https://localhost:8080/"
        },
        "id": "ExHXRKTR4OQc",
        "outputId": "10e314ac-bff3-4ca5-d84f-0553c3753aa9"
      },
      "source": [
        "model = Sequential()\n",
        "\n",
        "model.add(Dense(64, activation = 'relu', input_shape = (13,)))\n",
        "model.add(Dense(64, activation = 'relu'))\n",
        "model.add(Dense(1, activation = 'relu'))\n",
        "\n",
        "model.compile( optimizer = 'rmsprop', loss = 'mse', metrics = ['mse'])\n",
        "\n",
        "model.fit(X_train, y_train, epochs = 80)"
      ],
      "execution_count": null,
      "outputs": [
        {
          "output_type": "stream",
          "text": [
            "Epoch 1/80\n",
            "13/13 [==============================] - 1s 2ms/step - loss: 0.1109 - mse: 0.1109\n",
            "Epoch 2/80\n",
            "13/13 [==============================] - 0s 1ms/step - loss: 0.0186 - mse: 0.0186\n",
            "Epoch 3/80\n",
            "13/13 [==============================] - 0s 1ms/step - loss: 0.0125 - mse: 0.0125\n",
            "Epoch 4/80\n",
            "13/13 [==============================] - 0s 1ms/step - loss: 0.0097 - mse: 0.0097\n",
            "Epoch 5/80\n",
            "13/13 [==============================] - 0s 982us/step - loss: 0.0063 - mse: 0.0063\n",
            "Epoch 6/80\n",
            "13/13 [==============================] - 0s 964us/step - loss: 0.0089 - mse: 0.0089\n",
            "Epoch 7/80\n",
            "13/13 [==============================] - 0s 1ms/step - loss: 0.0071 - mse: 0.0071\n",
            "Epoch 8/80\n",
            "13/13 [==============================] - 0s 1ms/step - loss: 0.0066 - mse: 0.0066\n",
            "Epoch 9/80\n",
            "13/13 [==============================] - 0s 1ms/step - loss: 0.0064 - mse: 0.0064\n",
            "Epoch 10/80\n",
            "13/13 [==============================] - 0s 1ms/step - loss: 0.0060 - mse: 0.0060\n",
            "Epoch 11/80\n",
            "13/13 [==============================] - 0s 1ms/step - loss: 0.0046 - mse: 0.0046\n",
            "Epoch 12/80\n",
            "13/13 [==============================] - 0s 1ms/step - loss: 0.0069 - mse: 0.0069\n",
            "Epoch 13/80\n",
            "13/13 [==============================] - 0s 1ms/step - loss: 0.0032 - mse: 0.0032\n",
            "Epoch 14/80\n",
            "13/13 [==============================] - 0s 1ms/step - loss: 0.0040 - mse: 0.0040\n",
            "Epoch 15/80\n",
            "13/13 [==============================] - 0s 1ms/step - loss: 0.0037 - mse: 0.0037\n",
            "Epoch 16/80\n",
            "13/13 [==============================] - 0s 1ms/step - loss: 0.0057 - mse: 0.0057\n",
            "Epoch 17/80\n",
            "13/13 [==============================] - 0s 1ms/step - loss: 0.0053 - mse: 0.0053\n",
            "Epoch 18/80\n",
            "13/13 [==============================] - 0s 2ms/step - loss: 0.0048 - mse: 0.0048\n",
            "Epoch 19/80\n",
            "13/13 [==============================] - 0s 1ms/step - loss: 0.0048 - mse: 0.0048\n",
            "Epoch 20/80\n",
            "13/13 [==============================] - 0s 1ms/step - loss: 0.0037 - mse: 0.0037\n",
            "Epoch 21/80\n",
            "13/13 [==============================] - 0s 1ms/step - loss: 0.0024 - mse: 0.0024\n",
            "Epoch 22/80\n",
            "13/13 [==============================] - 0s 1ms/step - loss: 0.0039 - mse: 0.0039\n",
            "Epoch 23/80\n",
            "13/13 [==============================] - 0s 1ms/step - loss: 0.0034 - mse: 0.0034\n",
            "Epoch 24/80\n",
            "13/13 [==============================] - 0s 1ms/step - loss: 0.0036 - mse: 0.0036\n",
            "Epoch 25/80\n",
            "13/13 [==============================] - 0s 2ms/step - loss: 0.0048 - mse: 0.0048\n",
            "Epoch 26/80\n",
            "13/13 [==============================] - 0s 1ms/step - loss: 0.0028 - mse: 0.0028\n",
            "Epoch 27/80\n",
            "13/13 [==============================] - 0s 2ms/step - loss: 0.0034 - mse: 0.0034    \n",
            "Epoch 28/80\n",
            "13/13 [==============================] - 0s 1ms/step - loss: 0.0025 - mse: 0.0025\n",
            "Epoch 29/80\n",
            "13/13 [==============================] - 0s 1ms/step - loss: 0.0031 - mse: 0.0031\n",
            "Epoch 30/80\n",
            "13/13 [==============================] - 0s 1ms/step - loss: 0.0033 - mse: 0.0033    \n",
            "Epoch 31/80\n",
            "13/13 [==============================] - 0s 1ms/step - loss: 0.0019 - mse: 0.0019    \n",
            "Epoch 32/80\n",
            "13/13 [==============================] - 0s 2ms/step - loss: 0.0036 - mse: 0.0036\n",
            "Epoch 33/80\n",
            "13/13 [==============================] - 0s 1ms/step - loss: 0.0024 - mse: 0.0024\n",
            "Epoch 34/80\n",
            "13/13 [==============================] - 0s 1ms/step - loss: 0.0060 - mse: 0.0060\n",
            "Epoch 35/80\n",
            "13/13 [==============================] - 0s 1ms/step - loss: 0.0034 - mse: 0.0034\n",
            "Epoch 36/80\n",
            "13/13 [==============================] - 0s 1ms/step - loss: 0.0033 - mse: 0.0033\n",
            "Epoch 37/80\n",
            "13/13 [==============================] - 0s 1ms/step - loss: 0.0027 - mse: 0.0027\n",
            "Epoch 38/80\n",
            "13/13 [==============================] - 0s 1ms/step - loss: 0.0020 - mse: 0.0020\n",
            "Epoch 39/80\n",
            "13/13 [==============================] - 0s 1ms/step - loss: 0.0032 - mse: 0.0032\n",
            "Epoch 40/80\n",
            "13/13 [==============================] - 0s 1ms/step - loss: 0.0027 - mse: 0.0027\n",
            "Epoch 41/80\n",
            "13/13 [==============================] - 0s 1ms/step - loss: 0.0016 - mse: 0.0016\n",
            "Epoch 42/80\n",
            "13/13 [==============================] - 0s 1ms/step - loss: 0.0063 - mse: 0.0063\n",
            "Epoch 43/80\n",
            "13/13 [==============================] - 0s 1ms/step - loss: 0.0030 - mse: 0.0030\n",
            "Epoch 44/80\n",
            "13/13 [==============================] - 0s 1ms/step - loss: 0.0021 - mse: 0.0021\n",
            "Epoch 45/80\n",
            "13/13 [==============================] - 0s 2ms/step - loss: 0.0028 - mse: 0.0028\n",
            "Epoch 46/80\n",
            "13/13 [==============================] - 0s 1ms/step - loss: 0.0026 - mse: 0.0026    \n",
            "Epoch 47/80\n",
            "13/13 [==============================] - 0s 2ms/step - loss: 0.0025 - mse: 0.0025    \n",
            "Epoch 48/80\n",
            "13/13 [==============================] - 0s 1ms/step - loss: 0.0021 - mse: 0.0021\n",
            "Epoch 49/80\n",
            "13/13 [==============================] - 0s 1ms/step - loss: 0.0031 - mse: 0.0031\n",
            "Epoch 50/80\n",
            "13/13 [==============================] - 0s 2ms/step - loss: 0.0034 - mse: 0.0034\n",
            "Epoch 51/80\n",
            "13/13 [==============================] - 0s 1ms/step - loss: 0.0023 - mse: 0.0023\n",
            "Epoch 52/80\n",
            "13/13 [==============================] - 0s 1ms/step - loss: 0.0022 - mse: 0.0022\n",
            "Epoch 53/80\n",
            "13/13 [==============================] - 0s 1ms/step - loss: 0.0030 - mse: 0.0030\n",
            "Epoch 54/80\n",
            "13/13 [==============================] - 0s 1ms/step - loss: 0.0018 - mse: 0.0018    \n",
            "Epoch 55/80\n",
            "13/13 [==============================] - 0s 1ms/step - loss: 0.0018 - mse: 0.0018\n",
            "Epoch 56/80\n",
            "13/13 [==============================] - 0s 1ms/step - loss: 0.0034 - mse: 0.0034\n",
            "Epoch 57/80\n",
            "13/13 [==============================] - 0s 2ms/step - loss: 0.0026 - mse: 0.0026\n",
            "Epoch 58/80\n",
            "13/13 [==============================] - 0s 2ms/step - loss: 0.0042 - mse: 0.0042\n",
            "Epoch 59/80\n",
            "13/13 [==============================] - 0s 1ms/step - loss: 0.0017 - mse: 0.0017\n",
            "Epoch 60/80\n",
            "13/13 [==============================] - 0s 2ms/step - loss: 0.0024 - mse: 0.0024\n",
            "Epoch 61/80\n",
            "13/13 [==============================] - 0s 2ms/step - loss: 0.0021 - mse: 0.0021\n",
            "Epoch 62/80\n",
            "13/13 [==============================] - 0s 1ms/step - loss: 0.0025 - mse: 0.0025\n",
            "Epoch 63/80\n",
            "13/13 [==============================] - 0s 1ms/step - loss: 0.0034 - mse: 0.0034\n",
            "Epoch 64/80\n",
            "13/13 [==============================] - 0s 1ms/step - loss: 0.0025 - mse: 0.0025\n",
            "Epoch 65/80\n",
            "13/13 [==============================] - 0s 2ms/step - loss: 0.0032 - mse: 0.0032\n",
            "Epoch 66/80\n",
            "13/13 [==============================] - 0s 1ms/step - loss: 0.0018 - mse: 0.0018    \n",
            "Epoch 67/80\n",
            "13/13 [==============================] - 0s 2ms/step - loss: 0.0015 - mse: 0.0015\n",
            "Epoch 68/80\n",
            "13/13 [==============================] - 0s 1ms/step - loss: 0.0018 - mse: 0.0018\n",
            "Epoch 69/80\n",
            "13/13 [==============================] - 0s 1ms/step - loss: 0.0018 - mse: 0.0018    \n",
            "Epoch 70/80\n",
            "13/13 [==============================] - 0s 1ms/step - loss: 0.0020 - mse: 0.0020\n",
            "Epoch 71/80\n",
            "13/13 [==============================] - 0s 1ms/step - loss: 0.0021 - mse: 0.0021\n",
            "Epoch 72/80\n",
            "13/13 [==============================] - 0s 2ms/step - loss: 0.0012 - mse: 0.0012\n",
            "Epoch 73/80\n",
            "13/13 [==============================] - 0s 1ms/step - loss: 0.0023 - mse: 0.0023\n",
            "Epoch 74/80\n",
            "13/13 [==============================] - 0s 1ms/step - loss: 0.0012 - mse: 0.0012    \n",
            "Epoch 75/80\n",
            "13/13 [==============================] - 0s 2ms/step - loss: 0.0015 - mse: 0.0015\n",
            "Epoch 76/80\n",
            "13/13 [==============================] - 0s 1ms/step - loss: 0.0032 - mse: 0.0032\n",
            "Epoch 77/80\n",
            "13/13 [==============================] - 0s 1ms/step - loss: 0.0016 - mse: 0.0016\n",
            "Epoch 78/80\n",
            "13/13 [==============================] - 0s 1ms/step - loss: 0.0025 - mse: 0.0025\n",
            "Epoch 79/80\n",
            "13/13 [==============================] - 0s 1ms/step - loss: 0.0012 - mse: 0.0012\n",
            "Epoch 80/80\n",
            "13/13 [==============================] - 0s 1ms/step - loss: 0.0035 - mse: 0.0035\n"
          ],
          "name": "stdout"
        },
        {
          "output_type": "execute_result",
          "data": {
            "text/plain": [
              "<keras.callbacks.History at 0x7f4a1e302310>"
            ]
          },
          "metadata": {
            "tags": []
          },
          "execution_count": 52
        }
      ]
    },
    {
      "cell_type": "code",
      "metadata": {
        "colab": {
          "base_uri": "https://localhost:8080/"
        },
        "id": "lK9cp-xk4g0m",
        "outputId": "c9882ef7-5ed5-4981-e428-75599fe9709e"
      },
      "source": [
        "model.evaluate(X_test,y_test)"
      ],
      "execution_count": null,
      "outputs": [
        {
          "output_type": "stream",
          "text": [
            "4/4 [==============================] - 0s 2ms/step - loss: 0.0081 - mse: 0.0081\n"
          ],
          "name": "stdout"
        },
        {
          "output_type": "execute_result",
          "data": {
            "text/plain": [
              "[0.008094614371657372, 0.008094614371657372]"
            ]
          },
          "metadata": {
            "tags": []
          },
          "execution_count": 53
        }
      ]
    },
    {
      "cell_type": "code",
      "metadata": {
        "colab": {
          "base_uri": "https://localhost:8080/"
        },
        "id": "tZEvqlUs6bbs",
        "outputId": "29d1d60f-5825-4532-94ec-8292e1aaf019"
      },
      "source": [
        "X_test[0]"
      ],
      "execution_count": null,
      "outputs": [
        {
          "output_type": "execute_result",
          "data": {
            "text/plain": [
              "array([ 2.8040301 , -0.50784934,  0.96960877, -0.32969024,  1.23174581,\n",
              "        0.11934137,  1.14739788, -0.91935276,  1.60609286,  1.40778227,\n",
              "        0.90513041, -4.27829517,  2.51324773])"
            ]
          },
          "metadata": {
            "tags": []
          },
          "execution_count": 54
        }
      ]
    },
    {
      "cell_type": "code",
      "metadata": {
        "colab": {
          "base_uri": "https://localhost:8080/"
        },
        "id": "og7to0rL6lLi",
        "outputId": "817e95e7-078d-4d72-fa55-f8024b51044b"
      },
      "source": [
        "y_test[0]"
      ],
      "execution_count": null,
      "outputs": [
        {
          "output_type": "execute_result",
          "data": {
            "text/plain": [
              "0.14400000000000002"
            ]
          },
          "metadata": {
            "tags": []
          },
          "execution_count": 58
        }
      ]
    },
    {
      "cell_type": "code",
      "metadata": {
        "colab": {
          "base_uri": "https://localhost:8080/"
        },
        "id": "TprwzFRO6nPZ",
        "outputId": "6c072e2a-d325-4405-e8b5-7563ffc74069"
      },
      "source": [
        "\n",
        "for i in range(50):\n",
        "\n",
        "  sample = X_test[i]\n",
        "\n",
        "  sample = np.reshape(sample, (1,13))\n",
        "\n",
        "  print(\"Pred : \" , model.predict(sample)[0][0] * 50)\n",
        "  print(\"Price: \" , y_test[i] * 50)\n",
        "  print(\"---------------------------\")"
      ],
      "execution_count": null,
      "outputs": [
        {
          "output_type": "stream",
          "text": [
            "Pred :  0.25927675887942314\n",
            "Price:  7.200000000000001\n",
            "---------------------------\n",
            "Pred :  20.048150420188904\n",
            "Price:  18.8\n",
            "---------------------------\n",
            "Pred :  20.818325877189636\n",
            "Price:  19.0\n",
            "---------------------------\n",
            "Pred :  25.327160954475403\n",
            "Price:  27.0\n",
            "---------------------------\n",
            "Pred :  24.352937936782837\n",
            "Price:  22.2\n",
            "---------------------------\n",
            "Pred :  25.340011715888977\n",
            "Price:  24.5\n",
            "---------------------------\n",
            "Pred :  30.992859601974487\n",
            "Price:  31.2\n",
            "---------------------------\n",
            "Pred :  21.21664583683014\n",
            "Price:  22.9\n",
            "---------------------------\n",
            "Pred :  17.455284297466278\n",
            "Price:  20.5\n",
            "---------------------------\n",
            "Pred :  21.052749454975128\n",
            "Price:  23.2\n",
            "---------------------------\n",
            "Pred :  24.851666390895844\n",
            "Price:  18.6\n",
            "---------------------------\n",
            "Pred :  16.599692404270172\n",
            "Price:  14.499999999999998\n",
            "---------------------------\n",
            "Pred :  15.581552684307098\n",
            "Price:  17.8\n",
            "---------------------------\n",
            "Pred :  45.93691825866699\n",
            "Price:  50.0\n",
            "---------------------------\n",
            "Pred :  17.264743149280548\n",
            "Price:  20.8\n",
            "---------------------------\n",
            "Pred :  20.253442227840424\n",
            "Price:  24.3\n",
            "---------------------------\n",
            "Pred :  25.974014401435852\n",
            "Price:  24.2\n",
            "---------------------------\n",
            "Pred :  18.517795205116272\n",
            "Price:  19.8\n",
            "---------------------------\n",
            "Pred :  16.84061884880066\n",
            "Price:  19.1\n",
            "---------------------------\n",
            "Pred :  17.34767258167267\n",
            "Price:  22.7\n",
            "---------------------------\n",
            "Pred :  8.074672520160675\n",
            "Price:  12.0\n",
            "---------------------------\n",
            "Pred :  3.0703626573085785\n",
            "Price:  10.2\n",
            "---------------------------\n",
            "Pred :  20.804211497306824\n",
            "Price:  20.0\n",
            "---------------------------\n",
            "Pred :  15.728916227817535\n",
            "Price:  18.5\n",
            "---------------------------\n",
            "Pred :  18.457475304603577\n",
            "Price:  20.9\n",
            "---------------------------\n",
            "Pred :  22.38854169845581\n",
            "Price:  23.0\n",
            "---------------------------\n",
            "Pred :  21.345315873622894\n",
            "Price:  27.500000000000004\n",
            "---------------------------\n",
            "Pred :  27.06499993801117\n",
            "Price:  30.099999999999998\n",
            "---------------------------\n",
            "Pred :  3.293519839644432\n",
            "Price:  9.5\n",
            "---------------------------\n",
            "Pred :  20.81519216299057\n",
            "Price:  22.0\n",
            "---------------------------\n",
            "Pred :  19.927160441875458\n",
            "Price:  21.2\n",
            "---------------------------\n",
            "Pred :  8.320573717355728\n",
            "Price:  14.099999999999998\n",
            "---------------------------\n",
            "Pred :  24.406300485134125\n",
            "Price:  33.1\n",
            "---------------------------\n",
            "Pred :  24.332070350646973\n",
            "Price:  23.4\n",
            "---------------------------\n",
            "Pred :  17.71707385778427\n",
            "Price:  20.1\n",
            "---------------------------\n",
            "Pred :  6.119449436664581\n",
            "Price:  7.400000000000001\n",
            "---------------------------\n",
            "Pred :  18.395932018756866\n",
            "Price:  15.4\n",
            "---------------------------\n",
            "Pred :  15.661218762397766\n",
            "Price:  23.8\n",
            "---------------------------\n",
            "Pred :  16.756227612495422\n",
            "Price:  20.1\n",
            "---------------------------\n",
            "Pred :  28.840577602386475\n",
            "Price:  24.5\n",
            "---------------------------\n",
            "Pred :  31.26581609249115\n",
            "Price:  33.0\n",
            "---------------------------\n",
            "Pred :  29.82933521270752\n",
            "Price:  28.4\n",
            "---------------------------\n",
            "Pred :  9.004666656255722\n",
            "Price:  14.099999999999998\n",
            "---------------------------\n",
            "Pred :  46.071118116378784\n",
            "Price:  46.7\n",
            "---------------------------\n",
            "Pred :  30.310994386672974\n",
            "Price:  32.5\n",
            "---------------------------\n",
            "Pred :  28.826424479484558\n",
            "Price:  29.600000000000005\n",
            "---------------------------\n",
            "Pred :  27.33902633190155\n",
            "Price:  28.4\n",
            "---------------------------\n",
            "Pred :  20.64039707183838\n",
            "Price:  19.8\n",
            "---------------------------\n",
            "Pred :  19.88305002450943\n",
            "Price:  20.2\n",
            "---------------------------\n",
            "Pred :  22.58763760328293\n",
            "Price:  25.0\n",
            "---------------------------\n"
          ],
          "name": "stdout"
        }
      ]
    },
    {
      "cell_type": "code",
      "metadata": {
        "colab": {
          "base_uri": "https://localhost:8080/"
        },
        "id": "cAVpuG5H7aQG",
        "outputId": "f6f627c3-f481-4301-9063-50ede9812784"
      },
      "source": [
        "X_train.shape"
      ],
      "execution_count": null,
      "outputs": [
        {
          "output_type": "execute_result",
          "data": {
            "text/plain": [
              "(404, 13)"
            ]
          },
          "metadata": {
            "tags": []
          },
          "execution_count": 76
        }
      ]
    },
    {
      "cell_type": "code",
      "metadata": {
        "id": "561iURhj792k"
      },
      "source": [
        ""
      ],
      "execution_count": null,
      "outputs": []
    }
  ]
}