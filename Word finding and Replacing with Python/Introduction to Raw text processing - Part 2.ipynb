{
 "cells": [
  {
   "cell_type": "code",
   "execution_count": 53,
   "metadata": {},
   "outputs": [],
   "source": [
    "txt = '''Coronavirus disease 2019 (COVID-19), also known as the coronavirus, or COVID, is a contagious disease caused by severe acute respiratory syndrome coronavirus 2 (SARS-CoV-2). The first known case was identified in Wuhan, China, in December 2019.[7] The disease has since spread worldwide, leading to an ongoing pandemic.[8]\n",
    "\n",
    "Symptoms of COVID-19 are variable, but often include fever,[9] cough, headache,[10] fatigue, breathing difficulties, and loss of smell and taste.[11][12] Symptoms may begin one to fourteen days after exposure to the virus. At least a third of people who are infected do not develop noticeable symptoms.[13] Of those people who develop noticeable symptoms enough to be classed as patients, most (81%) develop mild to moderate symptoms (up to mild pneumonia), while 14% develop severe symptoms (dyspnea, hypoxia, or more than 50% lung involvement on imaging), and 5% suffer critical symptoms (respiratory failure, shock, or multiorgan dysfunction).[14] Older people are at a higher risk of developing severe symptoms. Some people continue to experience a range of effects (long COVID) for months after recovery, and damage to organs has been observed.[15] Multi-year studies are underway to further investigate the long-term effects of the disease.[15]\n",
    "\n",
    "Transmission of COVID-19 occurs when people are exposed to virus-containing respiratory droplets and airborne particles exhaled by an infected person.[16][17] Those particles may be inhaled or may reach the mouth, nose, or eyes of a person through touching or direct deposition (i.e. being coughed on).[16] The risk of infection is highest when people are in close proximity for a long time, but particles can be inhaled over longer distances, particularly indoors in poorly ventilated and crowded spaces.[16][18] In those conditions small particles can remain suspended in the air for minutes to hours.[16] Touching a contaminated surface or object may lead to infection although this does not contribute substantially to transmission.[16][19] People who are infected can transmit the virus to another person up to two days before they themselves show symptoms, as can people who do not experience symptoms.[20][21] People remain infectious for up to ten days after the onset of symptoms in moderate cases and up to twenty days in severe cases.[22]\n",
    "\n",
    "Several testing methods have been developed to diagnose the disease. The standard diagnostic method is by detection of the virus' nucleic acid by real-time reverse transcription polymerase chain reaction (rRT-PCR), transcription-mediated amplification (TMA), or by reverse transcription loop-mediated isothermal amplification (RT-LAMP) from a nasopharyngeal swab.\n",
    "\n",
    "Preventive measures include physical or social distancing, quarantining, ventilation of indoor spaces, covering coughs and sneezes, hand washing, and keeping unwashed hands away from the face. The use of face masks or coverings has been recommended in public settings to minimize the risk of transmissions. Several vaccines have been developed and many countries have initiated mass vaccination campaigns.\n",
    "\n",
    "Although work is underway to develop drugs that inhibit the virus, the primary treatment is symptomatic. Management involves the treatment of symptoms, supportive care, isolation, and experimental measures.'''"
   ]
  },
  {
   "cell_type": "code",
   "execution_count": 79,
   "metadata": {
    "scrolled": true
   },
   "outputs": [],
   "source": [
    "txt = txt.lower()\n",
    "\n",
    "for i in range(23):\n",
    "    name = '[' + str(i) + ']'\n",
    "    \n",
    "    txt = txt.replace(name , '')\n",
    "\n",
    "txt = txt.replace('\\n\\n','')\n",
    "txt = txt.replace('(','')\n",
    "txt = txt.replace(')','')\n",
    "txt = txt.replace(',','')"
   ]
  },
  {
   "cell_type": "code",
   "execution_count": 80,
   "metadata": {},
   "outputs": [
    {
     "data": {
      "text/plain": [
       "\"coronavirus disease 2019 covid-19 also known as the coronavirus or covid is a contagious disease caused by severe acute respiratory syndrome coronavirus 2 sars-cov-2. the first known case was identified in wuhan china in december 2019. the disease has since spread worldwide leading to an ongoing pandemic.symptoms of covid-19 are variable but often include fever cough headache fatigue breathing difficulties and loss of smell and taste. symptoms may begin one to fourteen days after exposure to the virus. at least a third of people who are infected do not develop noticeable symptoms. of those people who develop noticeable symptoms enough to be classed as patients most 81% develop mild to moderate symptoms up to mild pneumonia while 14% develop severe symptoms dyspnea hypoxia or more than 50% lung involvement on imaging and 5% suffer critical symptoms respiratory failure shock or multiorgan dysfunction. older people are at a higher risk of developing severe symptoms. some people continue to experience a range of effects long covid for months after recovery and damage to organs has been observed. multi-year studies are underway to further investigate the long-term effects of the disease.transmission of covid-19 occurs when people are exposed to virus-containing respiratory droplets and airborne particles exhaled by an infected person. those particles may be inhaled or may reach the mouth nose or eyes of a person through touching or direct deposition i.e. being coughed on. the risk of infection is highest when people are in close proximity for a long time but particles can be inhaled over longer distances particularly indoors in poorly ventilated and crowded spaces. in those conditions small particles can remain suspended in the air for minutes to hours. touching a contaminated surface or object may lead to infection although this does not contribute substantially to transmission. people who are infected can transmit the virus to another person up to two days before they themselves show symptoms as can people who do not experience symptoms. people remain infectious for up to ten days after the onset of symptoms in moderate cases and up to twenty days in severe cases.several testing methods have been developed to diagnose the disease. the standard diagnostic method is by detection of the virus' nucleic acid by real-time reverse transcription polymerase chain reaction rrt-pcr transcription-mediated amplification tma or by reverse transcription loop-mediated isothermal amplification rt-lamp from a nasopharyngeal swab.preventive measures include physical or social distancing quarantining ventilation of indoor spaces covering coughs and sneezes hand washing and keeping unwashed hands away from the face. the use of face masks or coverings has been recommended in public settings to minimize the risk of transmissions. several vaccines have been developed and many countries have initiated mass vaccination campaigns.although work is underway to develop drugs that inhibit the virus the primary treatment is symptomatic. management involves the treatment of symptoms supportive care isolation and experimental measures.\""
      ]
     },
     "execution_count": 80,
     "metadata": {},
     "output_type": "execute_result"
    }
   ],
   "source": [
    "txt"
   ]
  },
  {
   "cell_type": "code",
   "execution_count": 81,
   "metadata": {},
   "outputs": [
    {
     "data": {
      "text/plain": [
       "477"
      ]
     },
     "execution_count": 81,
     "metadata": {},
     "output_type": "execute_result"
    }
   ],
   "source": [
    "len(txt.split(' '))"
   ]
  },
  {
   "cell_type": "code",
   "execution_count": 82,
   "metadata": {},
   "outputs": [
    {
     "data": {
      "text/plain": [
       "275"
      ]
     },
     "execution_count": 82,
     "metadata": {},
     "output_type": "execute_result"
    }
   ],
   "source": [
    "len(set(txt.split(' ')))"
   ]
  },
  {
   "cell_type": "code",
   "execution_count": 83,
   "metadata": {},
   "outputs": [],
   "source": [
    "unique_words = list(set(txt.split(' ')))"
   ]
  },
  {
   "cell_type": "code",
   "execution_count": 92,
   "metadata": {
    "scrolled": false
   },
   "outputs": [
    {
     "name": "stdout",
     "output_type": "stream",
     "text": [
      "distances\n",
      "particularly\n",
      "chain\n",
      "object\n",
      "being\n",
      "caused\n",
      "proximity\n",
      "indoor\n",
      "transmission.\n",
      "sars-cov-2.\n",
      "virus-containing\n",
      "mild\n",
      "spaces\n",
      "through\n",
      "cases.several\n",
      "disease.\n",
      "suffer\n",
      "dysfunction.\n",
      "poorly\n",
      "vaccines\n",
      "highest\n",
      "show\n",
      "81%\n",
      "measures.\n",
      "symptoms\n",
      "to\n",
      "spread\n",
      "2019\n",
      "coughed\n",
      "developed\n",
      "include\n",
      "recommended\n",
      "over\n",
      "do\n",
      "breathing\n",
      "risk\n",
      "acute\n",
      "inhibit\n",
      "methods\n",
      "respiratory\n",
      "effects\n",
      "they\n",
      "hands\n",
      "not\n",
      "virus'\n",
      "nucleic\n",
      "rrt-pcr\n",
      "exhaled\n",
      "diagnose\n",
      "loss\n",
      "2019.\n",
      "washing\n",
      "contagious\n",
      "covering\n",
      "recovery\n",
      "shock\n",
      "multiorgan\n",
      "identified\n",
      "method\n",
      "experience\n",
      "investigate\n",
      "continue\n",
      "coronavirus\n",
      "nose\n",
      "5%\n",
      "involvement\n",
      "sneezes\n",
      "settings\n",
      "campaigns.although\n",
      "work\n",
      "often\n",
      "ten\n",
      "people\n",
      "rt-lamp\n",
      "testing\n",
      "some\n",
      "direct\n",
      "up\n",
      "ventilated\n",
      "been\n",
      "are\n",
      "substantially\n",
      "further\n",
      "acid\n",
      "for\n",
      "infectious\n",
      "away\n",
      "since\n",
      "while\n",
      "particles\n",
      "tma\n",
      "enough\n",
      "difficulties\n",
      "remain\n",
      "unwashed\n",
      "moderate\n",
      "conditions\n",
      "occurs\n",
      "can\n",
      "pandemic.symptoms\n",
      "be\n",
      "who\n",
      "inhaled\n",
      "loop-mediated\n",
      "standard\n",
      "wuhan\n",
      "small\n",
      "deposition\n",
      "amplification\n",
      "china\n",
      "imaging\n",
      "although\n",
      "from\n",
      "cough\n",
      "experimental\n",
      "by\n",
      "care\n",
      "fourteen\n",
      "reverse\n",
      "noticeable\n",
      "polymerase\n",
      "of\n",
      "months\n",
      "days\n",
      "covid\n",
      "range\n",
      "treatment\n",
      "underway\n",
      "long-term\n",
      "mouth\n",
      "studies\n",
      "or\n",
      "involves\n",
      "first\n",
      "disease.transmission\n",
      "airborne\n",
      "transmissions.\n",
      "nasopharyngeal\n",
      "primary\n",
      "one\n",
      "indoors\n",
      "lung\n",
      "long\n",
      "suspended\n",
      "dyspnea\n",
      "use\n",
      "management\n",
      "i.e.\n",
      "quarantining\n",
      "multi-year\n",
      "vaccination\n",
      "leading\n",
      "50%\n",
      "two\n",
      "least\n",
      "2\n",
      "infected\n",
      "themselves\n",
      "countries\n",
      "was\n",
      "headache\n",
      "eyes\n",
      "contribute\n",
      "on.\n",
      "initiated\n",
      "on\n",
      "drugs\n",
      "droplets\n",
      "public\n",
      "exposed\n",
      "but\n",
      "failure\n",
      "spaces.\n",
      "real-time\n",
      "known\n",
      "cases\n",
      "symptoms.\n",
      "than\n",
      "those\n",
      "case\n",
      "detection\n",
      "keeping\n",
      "has\n",
      "classed\n",
      "twenty\n",
      "developing\n",
      "this\n",
      "isolation\n",
      "crowded\n",
      "virus.\n",
      "measures\n",
      "air\n",
      "symptomatic.\n",
      "pneumonia\n",
      "patients\n",
      "lead\n",
      "ongoing\n",
      "critical\n",
      "hand\n",
      "coverings\n",
      "contaminated\n",
      "more\n",
      "minutes\n",
      "social\n",
      "and\n",
      "before\n",
      "that\n",
      "december\n",
      "is\n",
      "hours.\n",
      "person.\n",
      "touching\n",
      "surface\n",
      "an\n",
      "transcription-mediated\n",
      "as\n",
      "at\n",
      "have\n",
      "in\n",
      "close\n",
      "isothermal\n",
      "face\n",
      "organs\n",
      "diagnostic\n",
      "physical\n",
      "supportive\n",
      "develop\n",
      "syndrome\n",
      "transcription\n",
      "coughs\n",
      "when\n",
      "damage\n",
      "onset\n",
      "also\n",
      "another\n",
      "distancing\n",
      "transmit\n",
      "several\n",
      "smell\n",
      "higher\n",
      "worldwide\n",
      "begin\n",
      "fever\n",
      "may\n",
      "after\n",
      "reach\n",
      "masks\n",
      "taste.\n",
      "most\n",
      "virus\n",
      "14%\n",
      "fatigue\n",
      "infection\n",
      "reaction\n",
      "variable\n",
      "swab.preventive\n",
      "ventilation\n",
      "exposure\n",
      "a\n",
      "longer\n",
      "third\n",
      "older\n",
      "minimize\n",
      "many\n",
      "disease\n",
      "covid-19\n",
      "observed.\n",
      "person\n",
      "severe\n",
      "hypoxia\n",
      "mass\n",
      "does\n",
      "time\n",
      "the\n",
      "face.\n"
     ]
    }
   ],
   "source": [
    "for word in unique_words:\n",
    "    print(word)"
   ]
  },
  {
   "cell_type": "markdown",
   "metadata": {},
   "source": [
    "# Word Finder"
   ]
  },
  {
   "cell_type": "code",
   "execution_count": 100,
   "metadata": {},
   "outputs": [
    {
     "name": "stdout",
     "output_type": "stream",
     "text": [
      "virus\n",
      "virus\n"
     ]
    }
   ],
   "source": [
    "for word in txt.split(' '):\n",
    "    if (word == 'virus'):\n",
    "        print(word)"
   ]
  },
  {
   "cell_type": "markdown",
   "metadata": {},
   "source": [
    "# Word Frequency Counter"
   ]
  },
  {
   "cell_type": "code",
   "execution_count": 107,
   "metadata": {},
   "outputs": [
    {
     "name": "stdout",
     "output_type": "stream",
     "text": [
      "20\n"
     ]
    }
   ],
   "source": [
    "tmp = 0\n",
    "\n",
    "for word in txt.split(' '):\n",
    "    if (word == 'the'):\n",
    "        tmp += 1\n",
    "        \n",
    "print(tmp)"
   ]
  }
 ],
 "metadata": {
  "kernelspec": {
   "display_name": "Python 2",
   "language": "python",
   "name": "python2"
  },
  "language_info": {
   "codemirror_mode": {
    "name": "ipython",
    "version": 2
   },
   "file_extension": ".py",
   "mimetype": "text/x-python",
   "name": "python",
   "nbconvert_exporter": "python",
   "pygments_lexer": "ipython2",
   "version": "2.7.16"
  }
 },
 "nbformat": 4,
 "nbformat_minor": 2
}
